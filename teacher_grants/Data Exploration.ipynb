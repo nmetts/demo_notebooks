{
 "cells": [
  {
   "cell_type": "code",
   "execution_count": 1,
   "metadata": {
    "collapsed": true
   },
   "outputs": [],
   "source": [
    "import pandas as pd\n",
    "import numpy as np"
   ]
  },
  {
   "cell_type": "code",
   "execution_count": 2,
   "metadata": {
    "collapsed": true
   },
   "outputs": [],
   "source": [
    "train_data = pd.read_csv('train.csv')"
   ]
  },
  {
   "cell_type": "code",
   "execution_count": 3,
   "metadata": {},
   "outputs": [
    {
     "name": "stdout",
     "output_type": "stream",
     "text": [
      "<class 'pandas.core.frame.DataFrame'>\n",
      "RangeIndex: 182080 entries, 0 to 182079\n",
      "Data columns (total 16 columns):\n",
      "id                                              182080 non-null object\n",
      "teacher_id                                      182080 non-null object\n",
      "teacher_prefix                                  182076 non-null object\n",
      "school_state                                    182080 non-null object\n",
      "project_submitted_datetime                      182080 non-null object\n",
      "project_grade_category                          182080 non-null object\n",
      "project_subject_categories                      182080 non-null object\n",
      "project_subject_subcategories                   182080 non-null object\n",
      "project_title                                   182080 non-null object\n",
      "project_essay_1                                 182080 non-null object\n",
      "project_essay_2                                 182080 non-null object\n",
      "project_essay_3                                 6374 non-null object\n",
      "project_essay_4                                 6374 non-null object\n",
      "project_resource_summary                        182080 non-null object\n",
      "teacher_number_of_previously_posted_projects    182080 non-null int64\n",
      "project_is_approved                             182080 non-null int64\n",
      "dtypes: int64(2), object(14)\n",
      "memory usage: 22.2+ MB\n"
     ]
    }
   ],
   "source": [
    "train_data.info()"
   ]
  },
  {
   "cell_type": "code",
   "execution_count": 6,
   "metadata": {},
   "outputs": [
    {
     "data": {
      "text/plain": [
       "Dr.        0.807692\n",
       "Mr.        0.842022\n",
       "Mrs.       0.854085\n",
       "Ms.        0.843052\n",
       "Teacher    0.794223\n",
       "dtype: float64"
      ]
     },
     "execution_count": 6,
     "metadata": {},
     "output_type": "execute_result"
    }
   ],
   "source": [
    "train_data.groupby('teacher_prefix').project_is_approved.sum()/train_data.teacher_prefix.value_counts()"
   ]
  },
  {
   "cell_type": "markdown",
   "metadata": {},
   "source": [
    "## First, let's look at the distribution of the label"
   ]
  },
  {
   "cell_type": "code",
   "execution_count": 5,
   "metadata": {},
   "outputs": [
    {
     "data": {
      "text/plain": [
       "1    0.847682\n",
       "0    0.152318\n",
       "Name: project_is_approved, dtype: float64"
      ]
     },
     "execution_count": 5,
     "metadata": {},
     "output_type": "execute_result"
    }
   ],
   "source": [
    "train_data.project_is_approved.value_counts()/train_data.project_is_approved.count()"
   ]
  },
  {
   "cell_type": "code",
   "execution_count": 8,
   "metadata": {},
   "outputs": [
    {
     "data": {
      "text/plain": [
       "51"
      ]
     },
     "execution_count": 8,
     "metadata": {},
     "output_type": "execute_result"
    }
   ],
   "source": [
    "train_data.school_state.nunique()"
   ]
  },
  {
   "cell_type": "markdown",
   "metadata": {},
   "source": [
    "## It looks like the distribution of approvals by state is fairly consistent"
   ]
  },
  {
   "cell_type": "code",
   "execution_count": 7,
   "metadata": {},
   "outputs": [
    {
     "data": {
      "text/plain": [
       "AK    0.849192\n",
       "AL    0.848393\n",
       "AR    0.832100\n",
       "AZ    0.841727\n",
       "CA    0.856431\n",
       "CO    0.845787\n",
       "CT    0.871294\n",
       "DC    0.812639\n",
       "DE    0.891341\n",
       "FL    0.824500\n",
       "GA    0.834087\n",
       "HI    0.843498\n",
       "IA    0.846154\n",
       "ID    0.841869\n",
       "IL    0.853792\n",
       "IN    0.847937\n",
       "KS    0.852830\n",
       "KY    0.857735\n",
       "LA    0.834009\n",
       "MA    0.860138\n",
       "MD    0.836290\n",
       "ME    0.858525\n",
       "MI    0.844478\n",
       "MN    0.857421\n",
       "MO    0.857547\n",
       "MS    0.843384\n",
       "MT    0.828125\n",
       "NC    0.853480\n",
       "ND    0.866935\n",
       "NE    0.851927\n",
       "NH    0.867121\n",
       "NJ    0.843367\n",
       "NM    0.822052\n",
       "NV    0.856770\n",
       "NY    0.853582\n",
       "OH    0.871467\n",
       "OK    0.834422\n",
       "OR    0.855592\n",
       "PA    0.852543\n",
       "RI    0.844211\n",
       "SC    0.864923\n",
       "SD    0.862348\n",
       "TN    0.851904\n",
       "TX    0.815670\n",
       "UT    0.835110\n",
       "VA    0.855194\n",
       "VT    0.848921\n",
       "WA    0.868050\n",
       "WI    0.845122\n",
       "WV    0.867700\n",
       "WY    0.875706\n",
       "dtype: float64"
      ]
     },
     "execution_count": 7,
     "metadata": {},
     "output_type": "execute_result"
    }
   ],
   "source": [
    "train_data.groupby('school_state').project_is_approved.sum()/train_data.school_state.value_counts()"
   ]
  },
  {
   "cell_type": "code",
   "execution_count": 10,
   "metadata": {},
   "outputs": [
    {
     "data": {
      "text/plain": [
       "0      50067\n",
       "1      26731\n",
       "2      17237\n",
       "3      11893\n",
       "4       8795\n",
       "5       6933\n",
       "6       5617\n",
       "7       4489\n",
       "8       3856\n",
       "9       3253\n",
       "10      2746\n",
       "11      2461\n",
       "12      2237\n",
       "13      1924\n",
       "14      1670\n",
       "15      1549\n",
       "16      1479\n",
       "17      1327\n",
       "18      1226\n",
       "19      1145\n",
       "20      1080\n",
       "21       960\n",
       "22       892\n",
       "23       871\n",
       "25       771\n",
       "24       761\n",
       "26       732\n",
       "27       663\n",
       "28       600\n",
       "30       595\n",
       "       ...  \n",
       "318        1\n",
       "386        1\n",
       "433        1\n",
       "404        1\n",
       "324        1\n",
       "429        1\n",
       "293        1\n",
       "406        1\n",
       "274        1\n",
       "359        1\n",
       "309        1\n",
       "361        1\n",
       "363        1\n",
       "236        1\n",
       "270        1\n",
       "337        1\n",
       "365        1\n",
       "333        1\n",
       "373        1\n",
       "422        1\n",
       "329        1\n",
       "394        1\n",
       "326        1\n",
       "425        1\n",
       "450        1\n",
       "392        1\n",
       "428        1\n",
       "321        1\n",
       "320        1\n",
       "441        1\n",
       "Name: teacher_number_of_previously_posted_projects, Length: 401, dtype: int64"
      ]
     },
     "execution_count": 10,
     "metadata": {},
     "output_type": "execute_result"
    }
   ],
   "source": [
    "train_data.teacher_number_of_previously_posted_projects.value_counts()"
   ]
  },
  {
   "cell_type": "code",
   "execution_count": 11,
   "metadata": {},
   "outputs": [
    {
     "data": {
      "text/plain": [
       "Grades PreK-2    73890\n",
       "Grades 3-5       61682\n",
       "Grades 6-8       28197\n",
       "Grades 9-12      18311\n",
       "Name: project_grade_category, dtype: int64"
      ]
     },
     "execution_count": 11,
     "metadata": {},
     "output_type": "execute_result"
    }
   ],
   "source": [
    "train_data.project_grade_category.value_counts()"
   ]
  },
  {
   "cell_type": "code",
   "execution_count": 20,
   "metadata": {},
   "outputs": [
    {
     "data": {
      "text/plain": [
       "Grades 3-5       0.853977\n",
       "Grades 6-8       0.843459\n",
       "Grades 9-12      0.835236\n",
       "Grades PreK-2    0.847124\n",
       "dtype: float64"
      ]
     },
     "execution_count": 20,
     "metadata": {},
     "output_type": "execute_result"
    }
   ],
   "source": [
    "train_data.groupby('project_grade_category').project_is_approved.sum()/train_data.project_grade_category.value_counts()"
   ]
  },
  {
   "cell_type": "code",
   "execution_count": 13,
   "metadata": {},
   "outputs": [
    {
     "data": {
      "text/plain": [
       "51"
      ]
     },
     "execution_count": 13,
     "metadata": {},
     "output_type": "execute_result"
    }
   ],
   "source": [
    "train_data.project_subject_categories.nunique()"
   ]
  },
  {
   "cell_type": "code",
   "execution_count": 18,
   "metadata": {},
   "outputs": [
    {
     "data": {
      "text/plain": [
       "0.81547671353251316"
      ]
     },
     "execution_count": 18,
     "metadata": {},
     "output_type": "execute_result"
    }
   ],
   "source": [
    "train_data.project_subject_categories.value_counts()[0:11].sum()/train_data.project_subject_categories.count()"
   ]
  },
  {
   "cell_type": "code",
   "execution_count": 19,
   "metadata": {},
   "outputs": [
    {
     "data": {
      "text/plain": [
       "51"
      ]
     },
     "execution_count": 19,
     "metadata": {},
     "output_type": "execute_result"
    }
   ],
   "source": [
    "train_data.project_subject_categories.nunique()"
   ]
  },
  {
   "cell_type": "code",
   "execution_count": 14,
   "metadata": {},
   "outputs": [
    {
     "data": {
      "text/plain": [
       "0.065579438150795713"
      ]
     },
     "execution_count": 14,
     "metadata": {},
     "output_type": "execute_result"
    }
   ],
   "source": [
    "train_data.teacher_number_of_previously_posted_projects.corr(train_data.project_is_approved)"
   ]
  },
  {
   "cell_type": "code",
   "execution_count": 21,
   "metadata": {
    "collapsed": true
   },
   "outputs": [],
   "source": [
    "resource_df = pd.read_csv('resources.csv')"
   ]
  },
  {
   "cell_type": "code",
   "execution_count": 22,
   "metadata": {},
   "outputs": [
    {
     "name": "stdout",
     "output_type": "stream",
     "text": [
      "<class 'pandas.core.frame.DataFrame'>\n",
      "RangeIndex: 1541272 entries, 0 to 1541271\n",
      "Data columns (total 4 columns):\n",
      "id             1541272 non-null object\n",
      "description    1540980 non-null object\n",
      "quantity       1541272 non-null int64\n",
      "price          1541272 non-null float64\n",
      "dtypes: float64(1), int64(1), object(2)\n",
      "memory usage: 47.0+ MB\n"
     ]
    }
   ],
   "source": [
    "resource_df.info()"
   ]
  },
  {
   "cell_type": "code",
   "execution_count": 23,
   "metadata": {},
   "outputs": [
    {
     "data": {
      "text/html": [
       "<div>\n",
       "<style scoped>\n",
       "    .dataframe tbody tr th:only-of-type {\n",
       "        vertical-align: middle;\n",
       "    }\n",
       "\n",
       "    .dataframe tbody tr th {\n",
       "        vertical-align: top;\n",
       "    }\n",
       "\n",
       "    .dataframe thead th {\n",
       "        text-align: right;\n",
       "    }\n",
       "</style>\n",
       "<table border=\"1\" class=\"dataframe\">\n",
       "  <thead>\n",
       "    <tr style=\"text-align: right;\">\n",
       "      <th></th>\n",
       "      <th>id</th>\n",
       "      <th>description</th>\n",
       "      <th>quantity</th>\n",
       "      <th>price</th>\n",
       "    </tr>\n",
       "  </thead>\n",
       "  <tbody>\n",
       "    <tr>\n",
       "      <th>0</th>\n",
       "      <td>p233245</td>\n",
       "      <td>LC652 - Lakeshore Double-Space Mobile Drying Rack</td>\n",
       "      <td>1</td>\n",
       "      <td>149.00</td>\n",
       "    </tr>\n",
       "    <tr>\n",
       "      <th>1</th>\n",
       "      <td>p069063</td>\n",
       "      <td>Bouncy Bands for Desks (Blue support pipes)</td>\n",
       "      <td>3</td>\n",
       "      <td>14.95</td>\n",
       "    </tr>\n",
       "    <tr>\n",
       "      <th>2</th>\n",
       "      <td>p069063</td>\n",
       "      <td>Cory Stories: A Kid's Book About Living With Adhd</td>\n",
       "      <td>1</td>\n",
       "      <td>8.45</td>\n",
       "    </tr>\n",
       "    <tr>\n",
       "      <th>3</th>\n",
       "      <td>p069063</td>\n",
       "      <td>Dixon Ticonderoga Wood-Cased #2 HB Pencils, Bo...</td>\n",
       "      <td>2</td>\n",
       "      <td>13.59</td>\n",
       "    </tr>\n",
       "    <tr>\n",
       "      <th>4</th>\n",
       "      <td>p069063</td>\n",
       "      <td>EDUCATIONAL INSIGHTS FLUORESCENT LIGHT FILTERS...</td>\n",
       "      <td>3</td>\n",
       "      <td>24.95</td>\n",
       "    </tr>\n",
       "    <tr>\n",
       "      <th>5</th>\n",
       "      <td>p069063</td>\n",
       "      <td>Last to Finish: A Story About the Smartest Boy...</td>\n",
       "      <td>1</td>\n",
       "      <td>16.99</td>\n",
       "    </tr>\n",
       "    <tr>\n",
       "      <th>6</th>\n",
       "      <td>p069063</td>\n",
       "      <td>Mrs. Gorski, I Think I Have the Wiggle Fidgets...</td>\n",
       "      <td>1</td>\n",
       "      <td>9.95</td>\n",
       "    </tr>\n",
       "    <tr>\n",
       "      <th>7</th>\n",
       "      <td>p069063</td>\n",
       "      <td>See-N-Read 1503905CQ Reading Tool - Book Size,...</td>\n",
       "      <td>2</td>\n",
       "      <td>10.11</td>\n",
       "    </tr>\n",
       "    <tr>\n",
       "      <th>8</th>\n",
       "      <td>p096795</td>\n",
       "      <td>Brewster WPD90218 Wall Pops Flirt Dot, Set of ...</td>\n",
       "      <td>2</td>\n",
       "      <td>9.95</td>\n",
       "    </tr>\n",
       "    <tr>\n",
       "      <th>9</th>\n",
       "      <td>p096795</td>\n",
       "      <td>Brewster Wall Pops WPE99065 Peel &amp; Stick Calyp...</td>\n",
       "      <td>2</td>\n",
       "      <td>9.02</td>\n",
       "    </tr>\n",
       "  </tbody>\n",
       "</table>\n",
       "</div>"
      ],
      "text/plain": [
       "        id                                        description  quantity  \\\n",
       "0  p233245  LC652 - Lakeshore Double-Space Mobile Drying Rack         1   \n",
       "1  p069063        Bouncy Bands for Desks (Blue support pipes)         3   \n",
       "2  p069063  Cory Stories: A Kid's Book About Living With Adhd         1   \n",
       "3  p069063  Dixon Ticonderoga Wood-Cased #2 HB Pencils, Bo...         2   \n",
       "4  p069063  EDUCATIONAL INSIGHTS FLUORESCENT LIGHT FILTERS...         3   \n",
       "5  p069063  Last to Finish: A Story About the Smartest Boy...         1   \n",
       "6  p069063  Mrs. Gorski, I Think I Have the Wiggle Fidgets...         1   \n",
       "7  p069063  See-N-Read 1503905CQ Reading Tool - Book Size,...         2   \n",
       "8  p096795  Brewster WPD90218 Wall Pops Flirt Dot, Set of ...         2   \n",
       "9  p096795  Brewster Wall Pops WPE99065 Peel & Stick Calyp...         2   \n",
       "\n",
       "    price  \n",
       "0  149.00  \n",
       "1   14.95  \n",
       "2    8.45  \n",
       "3   13.59  \n",
       "4   24.95  \n",
       "5   16.99  \n",
       "6    9.95  \n",
       "7   10.11  \n",
       "8    9.95  \n",
       "9    9.02  "
      ]
     },
     "execution_count": 23,
     "metadata": {},
     "output_type": "execute_result"
    }
   ],
   "source": [
    "resource_df[0:10]"
   ]
  },
  {
   "cell_type": "code",
   "execution_count": 24,
   "metadata": {
    "collapsed": true
   },
   "outputs": [],
   "source": [
    "resource_df = resource_df.assign(total_price=resource_df.price * resource_df.quantity)"
   ]
  },
  {
   "cell_type": "code",
   "execution_count": 25,
   "metadata": {},
   "outputs": [
    {
     "data": {
      "text/html": [
       "<div>\n",
       "<style scoped>\n",
       "    .dataframe tbody tr th:only-of-type {\n",
       "        vertical-align: middle;\n",
       "    }\n",
       "\n",
       "    .dataframe tbody tr th {\n",
       "        vertical-align: top;\n",
       "    }\n",
       "\n",
       "    .dataframe thead th {\n",
       "        text-align: right;\n",
       "    }\n",
       "</style>\n",
       "<table border=\"1\" class=\"dataframe\">\n",
       "  <thead>\n",
       "    <tr style=\"text-align: right;\">\n",
       "      <th></th>\n",
       "      <th>id</th>\n",
       "      <th>description</th>\n",
       "      <th>quantity</th>\n",
       "      <th>price</th>\n",
       "      <th>total_price</th>\n",
       "    </tr>\n",
       "  </thead>\n",
       "  <tbody>\n",
       "    <tr>\n",
       "      <th>0</th>\n",
       "      <td>p233245</td>\n",
       "      <td>LC652 - Lakeshore Double-Space Mobile Drying Rack</td>\n",
       "      <td>1</td>\n",
       "      <td>149.00</td>\n",
       "      <td>149.00</td>\n",
       "    </tr>\n",
       "    <tr>\n",
       "      <th>1</th>\n",
       "      <td>p069063</td>\n",
       "      <td>Bouncy Bands for Desks (Blue support pipes)</td>\n",
       "      <td>3</td>\n",
       "      <td>14.95</td>\n",
       "      <td>44.85</td>\n",
       "    </tr>\n",
       "    <tr>\n",
       "      <th>2</th>\n",
       "      <td>p069063</td>\n",
       "      <td>Cory Stories: A Kid's Book About Living With Adhd</td>\n",
       "      <td>1</td>\n",
       "      <td>8.45</td>\n",
       "      <td>8.45</td>\n",
       "    </tr>\n",
       "    <tr>\n",
       "      <th>3</th>\n",
       "      <td>p069063</td>\n",
       "      <td>Dixon Ticonderoga Wood-Cased #2 HB Pencils, Bo...</td>\n",
       "      <td>2</td>\n",
       "      <td>13.59</td>\n",
       "      <td>27.18</td>\n",
       "    </tr>\n",
       "    <tr>\n",
       "      <th>4</th>\n",
       "      <td>p069063</td>\n",
       "      <td>EDUCATIONAL INSIGHTS FLUORESCENT LIGHT FILTERS...</td>\n",
       "      <td>3</td>\n",
       "      <td>24.95</td>\n",
       "      <td>74.85</td>\n",
       "    </tr>\n",
       "    <tr>\n",
       "      <th>5</th>\n",
       "      <td>p069063</td>\n",
       "      <td>Last to Finish: A Story About the Smartest Boy...</td>\n",
       "      <td>1</td>\n",
       "      <td>16.99</td>\n",
       "      <td>16.99</td>\n",
       "    </tr>\n",
       "    <tr>\n",
       "      <th>6</th>\n",
       "      <td>p069063</td>\n",
       "      <td>Mrs. Gorski, I Think I Have the Wiggle Fidgets...</td>\n",
       "      <td>1</td>\n",
       "      <td>9.95</td>\n",
       "      <td>9.95</td>\n",
       "    </tr>\n",
       "    <tr>\n",
       "      <th>7</th>\n",
       "      <td>p069063</td>\n",
       "      <td>See-N-Read 1503905CQ Reading Tool - Book Size,...</td>\n",
       "      <td>2</td>\n",
       "      <td>10.11</td>\n",
       "      <td>20.22</td>\n",
       "    </tr>\n",
       "    <tr>\n",
       "      <th>8</th>\n",
       "      <td>p096795</td>\n",
       "      <td>Brewster WPD90218 Wall Pops Flirt Dot, Set of ...</td>\n",
       "      <td>2</td>\n",
       "      <td>9.95</td>\n",
       "      <td>19.90</td>\n",
       "    </tr>\n",
       "    <tr>\n",
       "      <th>9</th>\n",
       "      <td>p096795</td>\n",
       "      <td>Brewster Wall Pops WPE99065 Peel &amp; Stick Calyp...</td>\n",
       "      <td>2</td>\n",
       "      <td>9.02</td>\n",
       "      <td>18.04</td>\n",
       "    </tr>\n",
       "  </tbody>\n",
       "</table>\n",
       "</div>"
      ],
      "text/plain": [
       "        id                                        description  quantity  \\\n",
       "0  p233245  LC652 - Lakeshore Double-Space Mobile Drying Rack         1   \n",
       "1  p069063        Bouncy Bands for Desks (Blue support pipes)         3   \n",
       "2  p069063  Cory Stories: A Kid's Book About Living With Adhd         1   \n",
       "3  p069063  Dixon Ticonderoga Wood-Cased #2 HB Pencils, Bo...         2   \n",
       "4  p069063  EDUCATIONAL INSIGHTS FLUORESCENT LIGHT FILTERS...         3   \n",
       "5  p069063  Last to Finish: A Story About the Smartest Boy...         1   \n",
       "6  p069063  Mrs. Gorski, I Think I Have the Wiggle Fidgets...         1   \n",
       "7  p069063  See-N-Read 1503905CQ Reading Tool - Book Size,...         2   \n",
       "8  p096795  Brewster WPD90218 Wall Pops Flirt Dot, Set of ...         2   \n",
       "9  p096795  Brewster Wall Pops WPE99065 Peel & Stick Calyp...         2   \n",
       "\n",
       "    price  total_price  \n",
       "0  149.00       149.00  \n",
       "1   14.95        44.85  \n",
       "2    8.45         8.45  \n",
       "3   13.59        27.18  \n",
       "4   24.95        74.85  \n",
       "5   16.99        16.99  \n",
       "6    9.95         9.95  \n",
       "7   10.11        20.22  \n",
       "8    9.95        19.90  \n",
       "9    9.02        18.04  "
      ]
     },
     "execution_count": 25,
     "metadata": {},
     "output_type": "execute_result"
    }
   ],
   "source": [
    "resource_df[0:10]"
   ]
  },
  {
   "cell_type": "code",
   "execution_count": 27,
   "metadata": {},
   "outputs": [],
   "source": [
    "total_price_df = resource_df.groupby('id').total_price.sum().to_frame(name='total_cost')"
   ]
  },
  {
   "cell_type": "code",
   "execution_count": 30,
   "metadata": {},
   "outputs": [],
   "source": [
    "total_price_df = total_price_df.reset_index()"
   ]
  },
  {
   "cell_type": "code",
   "execution_count": 31,
   "metadata": {},
   "outputs": [
    {
     "data": {
      "text/html": [
       "<div>\n",
       "<style scoped>\n",
       "    .dataframe tbody tr th:only-of-type {\n",
       "        vertical-align: middle;\n",
       "    }\n",
       "\n",
       "    .dataframe tbody tr th {\n",
       "        vertical-align: top;\n",
       "    }\n",
       "\n",
       "    .dataframe thead th {\n",
       "        text-align: right;\n",
       "    }\n",
       "</style>\n",
       "<table border=\"1\" class=\"dataframe\">\n",
       "  <thead>\n",
       "    <tr style=\"text-align: right;\">\n",
       "      <th></th>\n",
       "      <th>id</th>\n",
       "      <th>total_cost</th>\n",
       "    </tr>\n",
       "  </thead>\n",
       "  <tbody>\n",
       "    <tr>\n",
       "      <th>0</th>\n",
       "      <td>p000001</td>\n",
       "      <td>833.63</td>\n",
       "    </tr>\n",
       "    <tr>\n",
       "      <th>1</th>\n",
       "      <td>p000002</td>\n",
       "      <td>630.28</td>\n",
       "    </tr>\n",
       "    <tr>\n",
       "      <th>2</th>\n",
       "      <td>p000003</td>\n",
       "      <td>298.97</td>\n",
       "    </tr>\n",
       "    <tr>\n",
       "      <th>3</th>\n",
       "      <td>p000004</td>\n",
       "      <td>1126.22</td>\n",
       "    </tr>\n",
       "    <tr>\n",
       "      <th>4</th>\n",
       "      <td>p000005</td>\n",
       "      <td>702.31</td>\n",
       "    </tr>\n",
       "    <tr>\n",
       "      <th>5</th>\n",
       "      <td>p000006</td>\n",
       "      <td>130.62</td>\n",
       "    </tr>\n",
       "    <tr>\n",
       "      <th>6</th>\n",
       "      <td>p000007</td>\n",
       "      <td>947.88</td>\n",
       "    </tr>\n",
       "    <tr>\n",
       "      <th>7</th>\n",
       "      <td>p000008</td>\n",
       "      <td>296.99</td>\n",
       "    </tr>\n",
       "    <tr>\n",
       "      <th>8</th>\n",
       "      <td>p000009</td>\n",
       "      <td>335.40</td>\n",
       "    </tr>\n",
       "    <tr>\n",
       "      <th>9</th>\n",
       "      <td>p000010</td>\n",
       "      <td>332.40</td>\n",
       "    </tr>\n",
       "  </tbody>\n",
       "</table>\n",
       "</div>"
      ],
      "text/plain": [
       "        id  total_cost\n",
       "0  p000001      833.63\n",
       "1  p000002      630.28\n",
       "2  p000003      298.97\n",
       "3  p000004     1126.22\n",
       "4  p000005      702.31\n",
       "5  p000006      130.62\n",
       "6  p000007      947.88\n",
       "7  p000008      296.99\n",
       "8  p000009      335.40\n",
       "9  p000010      332.40"
      ]
     },
     "execution_count": 31,
     "metadata": {},
     "output_type": "execute_result"
    }
   ],
   "source": [
    "total_price_df[0:10]"
   ]
  },
  {
   "cell_type": "code",
   "execution_count": 32,
   "metadata": {
    "collapsed": true
   },
   "outputs": [],
   "source": [
    "train_merged = train_data.merge(total_price_df, on='id', how='left')"
   ]
  },
  {
   "cell_type": "code",
   "execution_count": 33,
   "metadata": {},
   "outputs": [
    {
     "name": "stdout",
     "output_type": "stream",
     "text": [
      "<class 'pandas.core.frame.DataFrame'>\n",
      "Int64Index: 182080 entries, 0 to 182079\n",
      "Data columns (total 17 columns):\n",
      "id                                              182080 non-null object\n",
      "teacher_id                                      182080 non-null object\n",
      "teacher_prefix                                  182076 non-null object\n",
      "school_state                                    182080 non-null object\n",
      "project_submitted_datetime                      182080 non-null object\n",
      "project_grade_category                          182080 non-null object\n",
      "project_subject_categories                      182080 non-null object\n",
      "project_subject_subcategories                   182080 non-null object\n",
      "project_title                                   182080 non-null object\n",
      "project_essay_1                                 182080 non-null object\n",
      "project_essay_2                                 182080 non-null object\n",
      "project_essay_3                                 6374 non-null object\n",
      "project_essay_4                                 6374 non-null object\n",
      "project_resource_summary                        182080 non-null object\n",
      "teacher_number_of_previously_posted_projects    182080 non-null int64\n",
      "project_is_approved                             182080 non-null int64\n",
      "total_cost                                      182080 non-null float64\n",
      "dtypes: float64(1), int64(2), object(14)\n",
      "memory usage: 25.0+ MB\n"
     ]
    }
   ],
   "source": [
    "train_merged.info()"
   ]
  },
  {
   "cell_type": "code",
   "execution_count": 34,
   "metadata": {},
   "outputs": [
    {
     "data": {
      "text/plain": [
       "-0.033018262331184545"
      ]
     },
     "execution_count": 34,
     "metadata": {},
     "output_type": "execute_result"
    }
   ],
   "source": [
    "train_merged.total_cost.corr(train_merged.project_is_approved)"
   ]
  },
  {
   "cell_type": "code",
   "execution_count": 35,
   "metadata": {
    "collapsed": true
   },
   "outputs": [],
   "source": [
    "train_merged.to_csv('train_with_cost.csv', index=False, index_label=False)"
   ]
  },
  {
   "cell_type": "code",
   "execution_count": 36,
   "metadata": {},
   "outputs": [
    {
     "name": "stderr",
     "output_type": "stream",
     "text": [
      "/usr/local/lib/python3.6/site-packages/IPython/core/interactiveshell.py:2698: DtypeWarning: Columns (11,12) have mixed types. Specify dtype option on import or set low_memory=False.\n",
      "  interactivity=interactivity, compiler=compiler, result=result)\n"
     ]
    }
   ],
   "source": [
    "test_data = pd.read_csv('test.csv')"
   ]
  },
  {
   "cell_type": "code",
   "execution_count": 37,
   "metadata": {},
   "outputs": [
    {
     "name": "stdout",
     "output_type": "stream",
     "text": [
      "<class 'pandas.core.frame.DataFrame'>\n",
      "RangeIndex: 78035 entries, 0 to 78034\n",
      "Data columns (total 15 columns):\n",
      "id                                              78035 non-null object\n",
      "teacher_id                                      78035 non-null object\n",
      "teacher_prefix                                  78034 non-null object\n",
      "school_state                                    78035 non-null object\n",
      "project_submitted_datetime                      78035 non-null object\n",
      "project_grade_category                          78035 non-null object\n",
      "project_subject_categories                      78035 non-null object\n",
      "project_subject_subcategories                   78035 non-null object\n",
      "project_title                                   78035 non-null object\n",
      "project_essay_1                                 78035 non-null object\n",
      "project_essay_2                                 78035 non-null object\n",
      "project_essay_3                                 2704 non-null object\n",
      "project_essay_4                                 2704 non-null object\n",
      "project_resource_summary                        78035 non-null object\n",
      "teacher_number_of_previously_posted_projects    78035 non-null int64\n",
      "dtypes: int64(1), object(14)\n",
      "memory usage: 8.9+ MB\n"
     ]
    }
   ],
   "source": [
    "test_data.info()"
   ]
  },
  {
   "cell_type": "code",
   "execution_count": 38,
   "metadata": {
    "collapsed": true
   },
   "outputs": [],
   "source": [
    "test_merged = test_data.merge(total_price_df, on='id', how='left')"
   ]
  },
  {
   "cell_type": "code",
   "execution_count": 39,
   "metadata": {},
   "outputs": [
    {
     "name": "stdout",
     "output_type": "stream",
     "text": [
      "<class 'pandas.core.frame.DataFrame'>\n",
      "Int64Index: 78035 entries, 0 to 78034\n",
      "Data columns (total 16 columns):\n",
      "id                                              78035 non-null object\n",
      "teacher_id                                      78035 non-null object\n",
      "teacher_prefix                                  78034 non-null object\n",
      "school_state                                    78035 non-null object\n",
      "project_submitted_datetime                      78035 non-null object\n",
      "project_grade_category                          78035 non-null object\n",
      "project_subject_categories                      78035 non-null object\n",
      "project_subject_subcategories                   78035 non-null object\n",
      "project_title                                   78035 non-null object\n",
      "project_essay_1                                 78035 non-null object\n",
      "project_essay_2                                 78035 non-null object\n",
      "project_essay_3                                 2704 non-null object\n",
      "project_essay_4                                 2704 non-null object\n",
      "project_resource_summary                        78035 non-null object\n",
      "teacher_number_of_previously_posted_projects    78035 non-null int64\n",
      "total_cost                                      78035 non-null float64\n",
      "dtypes: float64(1), int64(1), object(14)\n",
      "memory usage: 10.1+ MB\n"
     ]
    }
   ],
   "source": [
    "test_merged.info()"
   ]
  },
  {
   "cell_type": "code",
   "execution_count": 40,
   "metadata": {
    "collapsed": true
   },
   "outputs": [],
   "source": [
    "test_merged.to_csv('test_with_cost.csv', index=False, index_label=False)"
   ]
  },
  {
   "cell_type": "code",
   "execution_count": 41,
   "metadata": {
    "collapsed": true
   },
   "outputs": [],
   "source": [
    "test_reduced = test_merged[['id', 'teacher_number_of_previously_posted_projects', 'total_cost']]"
   ]
  },
  {
   "cell_type": "code",
   "execution_count": 42,
   "metadata": {
    "collapsed": true
   },
   "outputs": [],
   "source": [
    "test_reduced.to_csv('test_reduced_with_price.csv', index=False, index_label=False)"
   ]
  },
  {
   "cell_type": "code",
   "execution_count": null,
   "metadata": {
    "collapsed": true
   },
   "outputs": [],
   "source": []
  }
 ],
 "metadata": {
  "kernelspec": {
   "display_name": "Python 3",
   "language": "python",
   "name": "python3"
  },
  "language_info": {
   "codemirror_mode": {
    "name": "ipython",
    "version": 3
   },
   "file_extension": ".py",
   "mimetype": "text/x-python",
   "name": "python",
   "nbconvert_exporter": "python",
   "pygments_lexer": "ipython3",
   "version": "3.6.3"
  }
 },
 "nbformat": 4,
 "nbformat_minor": 2
}
