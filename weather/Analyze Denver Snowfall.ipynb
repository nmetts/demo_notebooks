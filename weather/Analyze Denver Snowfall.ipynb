{
 "cells": [
  {
   "cell_type": "markdown",
   "metadata": {},
   "source": [
    "# An analysis of monthly snowfall data from the Denver/Boulder National Weather Service. Source: https://www.weather.gov/bou/SeasonalSnowfall"
   ]
  },
  {
   "cell_type": "code",
   "execution_count": 1,
   "metadata": {},
   "outputs": [],
   "source": [
    "import pandas as pd\n",
    "import numpy as np"
   ]
  },
  {
   "cell_type": "code",
   "execution_count": 2,
   "metadata": {},
   "outputs": [],
   "source": [
    "df = pd.read_csv('denver_snowfall.csv', delim_whitespace=True)"
   ]
  },
  {
   "cell_type": "code",
   "execution_count": 3,
   "metadata": {},
   "outputs": [],
   "source": [
    "non_months = ['Year', 'Total', 'Departure_Historical_Average', 'Departure_30_Year_Average']"
   ]
  },
  {
   "cell_type": "code",
   "execution_count": 4,
   "metadata": {},
   "outputs": [],
   "source": [
    "months = [x for x in df.columns if x not in non_months]"
   ]
  },
  {
   "cell_type": "code",
   "execution_count": 6,
   "metadata": {},
   "outputs": [
    {
     "name": "stdout",
     "output_type": "stream",
     "text": [
      "<class 'pandas.core.frame.DataFrame'>\n",
      "RangeIndex: 136 entries, 0 to 135\n",
      "Data columns (total 16 columns):\n",
      "Year                            136 non-null object\n",
      "July                            136 non-null float64\n",
      "Aug                             136 non-null float64\n",
      "Sep                             118 non-null float64\n",
      "Oct                             122 non-null float64\n",
      "Nov                             129 non-null float64\n",
      "Dec                             133 non-null float64\n",
      "Jan                             134 non-null float64\n",
      "Feb                             135 non-null float64\n",
      "Mar                             134 non-null float64\n",
      "April                           128 non-null float64\n",
      "May                             101 non-null float64\n",
      "June                            133 non-null float64\n",
      "Total                           136 non-null float64\n",
      "Departure_Historical_Average    136 non-null float64\n",
      "Departure_30_Year_Average       136 non-null float64\n",
      "dtypes: float64(15), object(1)\n",
      "memory usage: 17.1+ KB\n"
     ]
    }
   ],
   "source": [
    "df.info()"
   ]
  },
  {
   "cell_type": "markdown",
   "metadata": {},
   "source": [
    "## Some months use 'T' to indicate a trace amount of snow. In order to simplify this analysis, let's convert all columns to numeric values. Any 'T' values will be converted to NaN"
   ]
  },
  {
   "cell_type": "code",
   "execution_count": 5,
   "metadata": {},
   "outputs": [],
   "source": [
    "for m in months:\n",
    "    df[m] = pd.to_numeric(df[m], errors='coerce')"
   ]
  },
  {
   "cell_type": "markdown",
   "metadata": {},
   "source": [
    "## Let's order the months by the highest average snowfall"
   ]
  },
  {
   "cell_type": "code",
   "execution_count": 17,
   "metadata": {},
   "outputs": [
    {
     "data": {
      "text/plain": [
       "Mar      11.532090\n",
       "April     9.435156\n",
       "Dec       8.326316\n",
       "Nov       7.802326\n",
       "Feb       7.697037\n",
       "Jan       6.695522\n",
       "Oct       4.537705\n",
       "May       2.280198\n",
       "Sep       1.165254\n",
       "June      0.005263\n",
       "Aug       0.000000\n",
       "July      0.000000\n",
       "dtype: float64"
      ]
     },
     "execution_count": 17,
     "metadata": {},
     "output_type": "execute_result"
    }
   ],
   "source": [
    "df[months].mean().sort_values(ascending=False)"
   ]
  },
  {
   "cell_type": "markdown",
   "metadata": {},
   "source": [
    "## Has the order changed for the most recent 30 years?"
   ]
  },
  {
   "cell_type": "code",
   "execution_count": 19,
   "metadata": {},
   "outputs": [
    {
     "data": {
      "text/plain": [
       "Mar      10.232143\n",
       "Dec       8.113793\n",
       "Jan       7.486207\n",
       "April     7.400000\n",
       "Nov       7.148276\n",
       "Feb       7.075862\n",
       "Oct       4.585185\n",
       "May       1.236000\n",
       "Sep       0.844828\n",
       "June      0.000000\n",
       "Aug       0.000000\n",
       "July      0.000000\n",
       "dtype: float64"
      ]
     },
     "execution_count": 19,
     "metadata": {},
     "output_type": "execute_result"
    }
   ],
   "source": [
    "df[months][0:30].mean().sort_values(ascending=False)"
   ]
  },
  {
   "cell_type": "markdown",
   "metadata": {},
   "source": [
    "## Now for each season, find the snowiest month"
   ]
  },
  {
   "cell_type": "code",
   "execution_count": 9,
   "metadata": {},
   "outputs": [],
   "source": [
    "snowiest_months = df[months].idxmax(axis=1)"
   ]
  },
  {
   "cell_type": "markdown",
   "metadata": {},
   "source": [
    "## What percentage of snow seasons have March as the snowiest month?"
   ]
  },
  {
   "cell_type": "code",
   "execution_count": 16,
   "metadata": {},
   "outputs": [
    {
     "data": {
      "text/plain": [
       "Mar      0.352941\n",
       "April    0.176471\n",
       "Dec      0.125000\n",
       "Feb      0.117647\n",
       "Jan      0.073529\n",
       "Nov      0.066176\n",
       "Oct      0.051471\n",
       "May      0.022059\n",
       "Sep      0.014706\n",
       "dtype: float64"
      ]
     },
     "execution_count": 16,
     "metadata": {},
     "output_type": "execute_result"
    }
   ],
   "source": [
    "snowiest_months.value_counts()/df.Year.count()"
   ]
  },
  {
   "cell_type": "markdown",
   "metadata": {},
   "source": [
    "## Which months most frequently have only a trace amount of snow?"
   ]
  },
  {
   "cell_type": "code",
   "execution_count": 14,
   "metadata": {},
   "outputs": [
    {
     "data": {
      "text/plain": [
       "May      35\n",
       "Sep      18\n",
       "Oct      14\n",
       "April     8\n",
       "Nov       7\n",
       "June      3\n",
       "Dec       3\n",
       "Mar       2\n",
       "Jan       2\n",
       "Feb       1\n",
       "Aug       0\n",
       "July      0\n",
       "dtype: int64"
      ]
     },
     "execution_count": 14,
     "metadata": {},
     "output_type": "execute_result"
    }
   ],
   "source": [
    "df[months].isna().sum().sort_values(ascending=False)"
   ]
  },
  {
   "cell_type": "markdown",
   "metadata": {},
   "source": [
    "## Which months have the highest variance in snowfall amount?"
   ]
  },
  {
   "cell_type": "code",
   "execution_count": 15,
   "metadata": {},
   "outputs": [
    {
     "data": {
      "text/plain": [
       "Mar      7.672964\n",
       "April    7.457804\n",
       "Dec      7.211059\n",
       "Nov      6.839996\n",
       "Oct      5.450503\n",
       "Feb      5.152176\n",
       "Jan      4.873634\n",
       "May      3.717527\n",
       "Sep      3.078749\n",
       "June     0.043198\n",
       "Aug      0.000000\n",
       "July     0.000000\n",
       "dtype: float64"
      ]
     },
     "execution_count": 15,
     "metadata": {},
     "output_type": "execute_result"
    }
   ],
   "source": [
    "df[months].std().sort_values(ascending=False)"
   ]
  },
  {
   "cell_type": "markdown",
   "metadata": {},
   "source": [
    "## For a slightly different perspective, let's order the months by the difference in max and min snowfall"
   ]
  },
  {
   "cell_type": "code",
   "execution_count": 22,
   "metadata": {},
   "outputs": [
    {
     "data": {
      "text/plain": [
       "Dec      57.3\n",
       "Nov      42.6\n",
       "Mar      34.9\n",
       "April    33.8\n",
       "Oct      31.2\n",
       "Jan      24.2\n",
       "Feb      22.1\n",
       "Sep      17.2\n",
       "May      15.5\n",
       "June      0.4\n",
       "Aug       0.0\n",
       "July      0.0\n",
       "dtype: float64"
      ]
     },
     "execution_count": 22,
     "metadata": {},
     "output_type": "execute_result"
    }
   ],
   "source": [
    "(df[months].max() - df[months].min()).sort_values(ascending=False)"
   ]
  },
  {
   "cell_type": "markdown",
   "metadata": {},
   "source": [
    "## Let's find the percentage of seasons for which each month had at least a trace amount of snow"
   ]
  },
  {
   "cell_type": "code",
   "execution_count": 31,
   "metadata": {},
   "outputs": [
    {
     "data": {
      "text/plain": [
       "July     0.000000\n",
       "Aug      0.000000\n",
       "Sep      0.338235\n",
       "Oct      0.860294\n",
       "Nov      0.992647\n",
       "Dec      1.000000\n",
       "Jan      1.000000\n",
       "Feb      1.000000\n",
       "Mar      1.000000\n",
       "April    0.970588\n",
       "May      0.647059\n",
       "June     0.036765\n",
       "dtype: float64"
      ]
     },
     "execution_count": 31,
     "metadata": {},
     "output_type": "execute_result"
    }
   ],
   "source": [
    "((df[months] > 0) | (df[months].isna())).sum()/df.Year.count()"
   ]
  },
  {
   "cell_type": "code",
   "execution_count": null,
   "metadata": {},
   "outputs": [],
   "source": []
  }
 ],
 "metadata": {
  "kernelspec": {
   "display_name": "Python 3",
   "language": "python",
   "name": "python3"
  },
  "language_info": {
   "codemirror_mode": {
    "name": "ipython",
    "version": 3
   },
   "file_extension": ".py",
   "mimetype": "text/x-python",
   "name": "python",
   "nbconvert_exporter": "python",
   "pygments_lexer": "ipython3",
   "version": "3.7.2"
  }
 },
 "nbformat": 4,
 "nbformat_minor": 2
}
