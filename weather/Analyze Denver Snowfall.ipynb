{
 "cells": [
  {
   "cell_type": "markdown",
   "metadata": {},
   "source": [
    "# An analysis of monthly snowfall data from the Denver/Boulder National Weather Service. Source: https://www.weather.gov/bou/SeasonalSnowfall"
   ]
  },
  {
   "cell_type": "code",
   "execution_count": 1,
   "metadata": {},
   "outputs": [],
   "source": [
    "import pandas as pd\n",
    "import numpy as np"
   ]
  },
  {
   "cell_type": "code",
   "execution_count": 2,
   "metadata": {},
   "outputs": [],
   "source": [
    "df = pd.read_csv('denver_snowfall.csv', delim_whitespace=True)"
   ]
  },
  {
   "cell_type": "code",
   "execution_count": 3,
   "metadata": {},
   "outputs": [],
   "source": [
    "months = df.columns[1:13]"
   ]
  },
  {
   "cell_type": "code",
   "execution_count": 4,
   "metadata": {},
   "outputs": [
    {
     "data": {
      "text/plain": [
       "Index(['July', 'Aug', 'Sep', 'Oct', 'Nov', 'Dec', 'Jan', 'Feb', 'Mar', 'April',\n",
       "       'May', 'June'],\n",
       "      dtype='object')"
      ]
     },
     "execution_count": 4,
     "metadata": {},
     "output_type": "execute_result"
    }
   ],
   "source": [
    "months"
   ]
  },
  {
   "cell_type": "code",
   "execution_count": 5,
   "metadata": {},
   "outputs": [
    {
     "name": "stdout",
     "output_type": "stream",
     "text": [
      "<class 'pandas.core.frame.DataFrame'>\n",
      "RangeIndex: 136 entries, 0 to 135\n",
      "Data columns (total 16 columns):\n",
      "Year                            136 non-null object\n",
      "July                            136 non-null float64\n",
      "Aug                             136 non-null float64\n",
      "Sep                             136 non-null object\n",
      "Oct                             136 non-null object\n",
      "Nov                             136 non-null object\n",
      "Dec                             136 non-null object\n",
      "Jan                             136 non-null object\n",
      "Feb                             136 non-null object\n",
      "Mar                             136 non-null object\n",
      "April                           136 non-null object\n",
      "May                             136 non-null object\n",
      "June                            136 non-null object\n",
      "Total                           136 non-null float64\n",
      "Departure_Historical_Average    136 non-null float64\n",
      "Departure_30_Year_Average       136 non-null float64\n",
      "dtypes: float64(5), object(11)\n",
      "memory usage: 17.1+ KB\n"
     ]
    }
   ],
   "source": [
    "df.info()"
   ]
  },
  {
   "cell_type": "markdown",
   "metadata": {},
   "source": [
    "## Some months use 'T' to indicate a trace amount of snow. In order to simplify this analysis, let's convert all columns to numeric values. Any 'T' values will be converted to NaN"
   ]
  },
  {
   "cell_type": "code",
   "execution_count": 6,
   "metadata": {},
   "outputs": [],
   "source": [
    "for m in months:\n",
    "    df[m] = pd.to_numeric(df[m], errors='coerce')"
   ]
  },
  {
   "cell_type": "markdown",
   "metadata": {},
   "source": [
    "## Let's order the months by the highest average snowfall"
   ]
  },
  {
   "cell_type": "code",
   "execution_count": 7,
   "metadata": {},
   "outputs": [
    {
     "data": {
      "text/plain": [
       "Mar      11.532090\n",
       "April     9.435156\n",
       "Dec       8.326316\n",
       "Nov       7.802326\n",
       "Feb       7.697037\n",
       "Jan       6.695522\n",
       "Oct       4.537705\n",
       "May       2.280198\n",
       "Sep       1.165254\n",
       "June      0.005263\n",
       "Aug       0.000000\n",
       "July      0.000000\n",
       "dtype: float64"
      ]
     },
     "execution_count": 7,
     "metadata": {},
     "output_type": "execute_result"
    }
   ],
   "source": [
    "df[months].mean().sort_values(ascending=False)"
   ]
  },
  {
   "cell_type": "markdown",
   "metadata": {},
   "source": [
    "## Has the order changed for the most recent 30 years?"
   ]
  },
  {
   "cell_type": "code",
   "execution_count": 8,
   "metadata": {},
   "outputs": [
    {
     "data": {
      "text/plain": [
       "Mar      10.232143\n",
       "Dec       8.113793\n",
       "Jan       7.486207\n",
       "April     7.400000\n",
       "Nov       7.148276\n",
       "Feb       7.075862\n",
       "Oct       4.585185\n",
       "May       1.236000\n",
       "Sep       0.844828\n",
       "June      0.000000\n",
       "Aug       0.000000\n",
       "July      0.000000\n",
       "dtype: float64"
      ]
     },
     "execution_count": 8,
     "metadata": {},
     "output_type": "execute_result"
    }
   ],
   "source": [
    "df[months][0:30].mean().sort_values(ascending=False)"
   ]
  },
  {
   "cell_type": "markdown",
   "metadata": {},
   "source": [
    "## Now for each season, find the snowiest month"
   ]
  },
  {
   "cell_type": "code",
   "execution_count": 9,
   "metadata": {},
   "outputs": [],
   "source": [
    "snowiest_months = df[months].idxmax(axis=1)"
   ]
  },
  {
   "cell_type": "markdown",
   "metadata": {},
   "source": [
    "## What percentage of snow seasons have March as the snowiest month?"
   ]
  },
  {
   "cell_type": "code",
   "execution_count": 10,
   "metadata": {},
   "outputs": [
    {
     "data": {
      "text/plain": [
       "Mar      0.352941\n",
       "April    0.176471\n",
       "Dec      0.125000\n",
       "Feb      0.117647\n",
       "Jan      0.073529\n",
       "Nov      0.066176\n",
       "Oct      0.051471\n",
       "May      0.022059\n",
       "Sep      0.014706\n",
       "dtype: float64"
      ]
     },
     "execution_count": 10,
     "metadata": {},
     "output_type": "execute_result"
    }
   ],
   "source": [
    "snowiest_months.value_counts()/df.Year.count()"
   ]
  },
  {
   "cell_type": "markdown",
   "metadata": {},
   "source": [
    "## Which months most frequently have only a trace amount of snow?"
   ]
  },
  {
   "cell_type": "code",
   "execution_count": 11,
   "metadata": {},
   "outputs": [
    {
     "data": {
      "text/plain": [
       "May      35\n",
       "Sep      18\n",
       "Oct      14\n",
       "April     8\n",
       "Nov       7\n",
       "June      3\n",
       "Dec       3\n",
       "Mar       2\n",
       "Jan       2\n",
       "Feb       1\n",
       "Aug       0\n",
       "July      0\n",
       "dtype: int64"
      ]
     },
     "execution_count": 11,
     "metadata": {},
     "output_type": "execute_result"
    }
   ],
   "source": [
    "df[months].isna().sum().sort_values(ascending=False)"
   ]
  },
  {
   "cell_type": "markdown",
   "metadata": {},
   "source": [
    "## Which months have the highest variance in snowfall amount?"
   ]
  },
  {
   "cell_type": "code",
   "execution_count": 12,
   "metadata": {},
   "outputs": [
    {
     "data": {
      "text/plain": [
       "Mar      7.672964\n",
       "April    7.457804\n",
       "Dec      7.211059\n",
       "Nov      6.839996\n",
       "Oct      5.450503\n",
       "Feb      5.152176\n",
       "Jan      4.873634\n",
       "May      3.717527\n",
       "Sep      3.078749\n",
       "June     0.043198\n",
       "Aug      0.000000\n",
       "July     0.000000\n",
       "dtype: float64"
      ]
     },
     "execution_count": 12,
     "metadata": {},
     "output_type": "execute_result"
    }
   ],
   "source": [
    "df[months].std().sort_values(ascending=False)"
   ]
  },
  {
   "cell_type": "markdown",
   "metadata": {},
   "source": [
    "## For a slightly different perspective, let's order the months by the difference in max and min snowfall"
   ]
  },
  {
   "cell_type": "code",
   "execution_count": 13,
   "metadata": {},
   "outputs": [
    {
     "data": {
      "text/plain": [
       "Dec      57.3\n",
       "Nov      42.6\n",
       "Mar      34.9\n",
       "April    33.8\n",
       "Oct      31.2\n",
       "Jan      24.2\n",
       "Feb      22.1\n",
       "Sep      17.2\n",
       "May      15.5\n",
       "June      0.4\n",
       "Aug       0.0\n",
       "July      0.0\n",
       "dtype: float64"
      ]
     },
     "execution_count": 13,
     "metadata": {},
     "output_type": "execute_result"
    }
   ],
   "source": [
    "(df[months].max() - df[months].min()).sort_values(ascending=False)"
   ]
  },
  {
   "cell_type": "markdown",
   "metadata": {},
   "source": [
    "## Let's find the percentage of seasons for which each month had at least a trace amount of snow"
   ]
  },
  {
   "cell_type": "code",
   "execution_count": 14,
   "metadata": {},
   "outputs": [
    {
     "data": {
      "text/plain": [
       "July     0.000000\n",
       "Aug      0.000000\n",
       "Sep      0.338235\n",
       "Oct      0.860294\n",
       "Nov      0.992647\n",
       "Dec      1.000000\n",
       "Jan      1.000000\n",
       "Feb      1.000000\n",
       "Mar      1.000000\n",
       "April    0.970588\n",
       "May      0.647059\n",
       "June     0.036765\n",
       "dtype: float64"
      ]
     },
     "execution_count": 14,
     "metadata": {},
     "output_type": "execute_result"
    }
   ],
   "source": [
    "((df[months] > 0) | (df[months].isna())).sum()/df.Year.count()"
   ]
  },
  {
   "cell_type": "markdown",
   "metadata": {},
   "source": [
    "## To get a sense of range, we'll look at min, max, and median snowfall for all months"
   ]
  },
  {
   "cell_type": "code",
   "execution_count": 15,
   "metadata": {},
   "outputs": [
    {
     "data": {
      "text/plain": [
       "July     0.0\n",
       "Aug      0.0\n",
       "Sep      0.0\n",
       "Oct      0.0\n",
       "Nov      0.0\n",
       "Dec      0.1\n",
       "Jan      0.1\n",
       "Feb      0.3\n",
       "Mar      0.3\n",
       "April    0.0\n",
       "May      0.0\n",
       "June     0.0\n",
       "dtype: float64"
      ]
     },
     "execution_count": 15,
     "metadata": {},
     "output_type": "execute_result"
    }
   ],
   "source": [
    "df[months].min()"
   ]
  },
  {
   "cell_type": "code",
   "execution_count": 16,
   "metadata": {},
   "outputs": [
    {
     "data": {
      "text/plain": [
       "July      0.0\n",
       "Aug       0.0\n",
       "Sep      17.2\n",
       "Oct      31.2\n",
       "Nov      42.6\n",
       "Dec      57.4\n",
       "Jan      24.3\n",
       "Feb      22.4\n",
       "Mar      35.2\n",
       "April    33.8\n",
       "May      15.5\n",
       "June      0.4\n",
       "dtype: float64"
      ]
     },
     "execution_count": 16,
     "metadata": {},
     "output_type": "execute_result"
    }
   ],
   "source": [
    "df[months].max()"
   ]
  },
  {
   "cell_type": "code",
   "execution_count": 17,
   "metadata": {},
   "outputs": [
    {
     "data": {
      "text/plain": [
       "July      0.00\n",
       "Aug       0.00\n",
       "Sep       0.00\n",
       "Oct       2.65\n",
       "Nov       5.60\n",
       "Dec       6.90\n",
       "Jan       5.80\n",
       "Feb       7.00\n",
       "Mar      10.00\n",
       "April     8.55\n",
       "May       0.20\n",
       "June      0.00\n",
       "dtype: float64"
      ]
     },
     "execution_count": 17,
     "metadata": {},
     "output_type": "execute_result"
    }
   ],
   "source": [
    "df[months].median()"
   ]
  },
  {
   "cell_type": "markdown",
   "metadata": {},
   "source": [
    "## Since July and August have never experienced measurable snowfall in this dataset, and June rarely has, let's define the months with somewhat regular snowfall for the rest of this analysis"
   ]
  },
  {
   "cell_type": "code",
   "execution_count": 18,
   "metadata": {},
   "outputs": [],
   "source": [
    "snow_months = [x for x in months if df[x].mean() > 1]"
   ]
  },
  {
   "cell_type": "code",
   "execution_count": 19,
   "metadata": {},
   "outputs": [],
   "source": [
    "seasons_sorted = 12 - np.argsort(np.argsort(df[snow_months].fillna(0.0001), axis=1))"
   ]
  },
  {
   "cell_type": "markdown",
   "metadata": {},
   "source": [
    "## How often are each of the snow months in the top 3 snowiest months for the season?"
   ]
  },
  {
   "cell_type": "code",
   "execution_count": 20,
   "metadata": {},
   "outputs": [
    {
     "data": {
      "text/plain": [
       "Sep      0.0\n",
       "Oct      0.0\n",
       "Nov      0.0\n",
       "Dec      0.0\n",
       "Jan      0.0\n",
       "Feb      0.0\n",
       "Mar      0.0\n",
       "April    0.0\n",
       "May      0.0\n",
       "dtype: float64"
      ]
     },
     "execution_count": 20,
     "metadata": {},
     "output_type": "execute_result"
    }
   ],
   "source": [
    "((seasons_sorted == 1) | (seasons_sorted == 2) | (seasons_sorted == 3)).sum()/136"
   ]
  },
  {
   "cell_type": "markdown",
   "metadata": {},
   "source": [
    "## Now we'll look at the number of times each snow month was the snowiest, 2nd snowiest, and 3rd snowiest"
   ]
  },
  {
   "cell_type": "code",
   "execution_count": 21,
   "metadata": {},
   "outputs": [
    {
     "data": {
      "text/plain": [
       "Sep      0\n",
       "Oct      0\n",
       "Nov      0\n",
       "Dec      0\n",
       "Jan      0\n",
       "Feb      0\n",
       "Mar      0\n",
       "April    0\n",
       "May      0\n",
       "dtype: int64"
      ]
     },
     "execution_count": 21,
     "metadata": {},
     "output_type": "execute_result"
    }
   ],
   "source": [
    "(seasons_sorted == 1).sum()"
   ]
  },
  {
   "cell_type": "code",
   "execution_count": 22,
   "metadata": {},
   "outputs": [
    {
     "data": {
      "text/plain": [
       "Sep      0\n",
       "Oct      0\n",
       "Nov      0\n",
       "Dec      0\n",
       "Jan      0\n",
       "Feb      0\n",
       "Mar      0\n",
       "April    0\n",
       "May      0\n",
       "dtype: int64"
      ]
     },
     "execution_count": 22,
     "metadata": {},
     "output_type": "execute_result"
    }
   ],
   "source": [
    "(seasons_sorted == 2).sum()"
   ]
  },
  {
   "cell_type": "code",
   "execution_count": 23,
   "metadata": {},
   "outputs": [
    {
     "data": {
      "text/plain": [
       "Sep      0\n",
       "Oct      0\n",
       "Nov      0\n",
       "Dec      0\n",
       "Jan      0\n",
       "Feb      0\n",
       "Mar      0\n",
       "April    0\n",
       "May      0\n",
       "dtype: int64"
      ]
     },
     "execution_count": 23,
     "metadata": {},
     "output_type": "execute_result"
    }
   ],
   "source": [
    "(seasons_sorted == 3).sum()"
   ]
  },
  {
   "cell_type": "markdown",
   "metadata": {},
   "source": [
    "## March seems to be the most interesting snow month. Let's take a closer look"
   ]
  },
  {
   "cell_type": "code",
   "execution_count": 24,
   "metadata": {},
   "outputs": [
    {
     "data": {
      "text/plain": [
       "<matplotlib.axes._subplots.AxesSubplot at 0x12124cfd0>"
      ]
     },
     "execution_count": 24,
     "metadata": {},
     "output_type": "execute_result"
    },
    {
     "data": {
      "image/png": "[encoded data removed]",
      "text/plain": [
       "<Figure size 1152x648 with 1 Axes>"
      ]
     },
     "metadata": {
      "needs_background": "light"
     },
     "output_type": "display_data"
    }
   ],
   "source": [
    "%matplotlib inline\n",
    "\n",
    "import matplotlib\n",
    "import matplotlib.pyplot as plt\n",
    "\n",
    "df.Mar.plot(figsize=(16, 9))"
   ]
  },
  {
   "cell_type": "markdown",
   "metadata": {},
   "source": [
    "## It turns out that the March snowfall is highly positively correlated with the season total snowfall. Interestingly, April snowfall is slightly negatively correlated with March snowfall"
   ]
  },
  {
   "cell_type": "code",
   "execution_count": 25,
   "metadata": {},
   "outputs": [
    {
     "data": {
      "text/plain": [
       "0.46077920984153004"
      ]
     },
     "execution_count": 25,
     "metadata": {},
     "output_type": "execute_result"
    }
   ],
   "source": [
    "df.Mar.corr(df.Total)"
   ]
  },
  {
   "cell_type": "code",
   "execution_count": 26,
   "metadata": {},
   "outputs": [
    {
     "data": {
      "text/plain": [
       "-0.1404860999076884"
      ]
     },
     "execution_count": 26,
     "metadata": {},
     "output_type": "execute_result"
    }
   ],
   "source": [
    "df.Mar.corr(df.April)"
   ]
  },
  {
   "cell_type": "code",
   "execution_count": 27,
   "metadata": {},
   "outputs": [
    {
     "data": {
      "text/plain": [
       "0.041064294241886456"
      ]
     },
     "execution_count": 27,
     "metadata": {},
     "output_type": "execute_result"
    }
   ],
   "source": [
    "df.Mar.corr(df.Feb)"
   ]
  },
  {
   "cell_type": "code",
   "execution_count": 28,
   "metadata": {},
   "outputs": [],
   "source": [
    "deciles = [x/10 for x in range(1, 10)]"
   ]
  },
  {
   "cell_type": "code",
   "execution_count": 29,
   "metadata": {},
   "outputs": [
    {
     "data": {
      "text/plain": [
       "count    135.000000\n",
       "mean       7.697037\n",
       "std        5.152176\n",
       "min        0.300000\n",
       "25%        3.500000\n",
       "50%        7.000000\n",
       "75%       10.650000\n",
       "max       22.400000\n",
       "Name: Feb, dtype: float64"
      ]
     },
     "execution_count": 29,
     "metadata": {},
     "output_type": "execute_result"
    }
   ],
   "source": [
    "df.Feb.describe()"
   ]
  },
  {
   "cell_type": "code",
   "execution_count": 30,
   "metadata": {},
   "outputs": [
    {
     "data": {
      "text/plain": [
       "count    134.000000\n",
       "mean      11.532090\n",
       "std        7.672964\n",
       "min        0.300000\n",
       "25%        5.325000\n",
       "50%       10.000000\n",
       "75%       16.400000\n",
       "max       35.200000\n",
       "Name: Mar, dtype: float64"
      ]
     },
     "execution_count": 30,
     "metadata": {},
     "output_type": "execute_result"
    }
   ],
   "source": [
    "df.Mar.describe()"
   ]
  },
  {
   "cell_type": "code",
   "execution_count": 31,
   "metadata": {},
   "outputs": [
    {
     "data": {
      "text/plain": [
       "count    128.000000\n",
       "mean       9.435156\n",
       "std        7.457804\n",
       "min        0.000000\n",
       "25%        3.475000\n",
       "50%        8.550000\n",
       "75%       13.550000\n",
       "max       33.800000\n",
       "Name: April, dtype: float64"
      ]
     },
     "execution_count": 31,
     "metadata": {},
     "output_type": "execute_result"
    }
   ],
   "source": [
    "df.April.describe()"
   ]
  },
  {
   "cell_type": "markdown",
   "metadata": {},
   "source": [
    "## In years when the March snowfall is in the lowest 25% the median April snowfall is 20% higher!"
   ]
  },
  {
   "cell_type": "code",
   "execution_count": 32,
   "metadata": {},
   "outputs": [
    {
     "data": {
      "text/plain": [
       "count    30.00000\n",
       "mean     11.72000\n",
       "std       8.42371\n",
       "min       0.80000\n",
       "10%       1.95000\n",
       "20%       3.66000\n",
       "30%       6.31000\n",
       "40%       8.58000\n",
       "50%      10.30000\n",
       "60%      11.44000\n",
       "70%      14.60000\n",
       "80%      19.54000\n",
       "90%      23.47000\n",
       "max      32.00000\n",
       "Name: April, dtype: float64"
      ]
     },
     "execution_count": 32,
     "metadata": {},
     "output_type": "execute_result"
    }
   ],
   "source": [
    "df.loc[df.Mar < 5.325].April.describe(percentiles=deciles)"
   ]
  },
  {
   "cell_type": "markdown",
   "metadata": {},
   "source": [
    "## Let's look at empirical CDFs for all the snow months"
   ]
  },
  {
   "cell_type": "code",
   "execution_count": 33,
   "metadata": {},
   "outputs": [
    {
     "data": {
      "text/plain": [
       "array([[<matplotlib.axes._subplots.AxesSubplot object at 0x123362f98>,\n",
       "        <matplotlib.axes._subplots.AxesSubplot object at 0x10e20aa20>,\n",
       "        <matplotlib.axes._subplots.AxesSubplot object at 0x10e234c50>],\n",
       "       [<matplotlib.axes._subplots.AxesSubplot object at 0x10e25ae80>,\n",
       "        <matplotlib.axes._subplots.AxesSubplot object at 0x10ee12128>,\n",
       "        <matplotlib.axes._subplots.AxesSubplot object at 0x10ee3b390>],\n",
       "       [<matplotlib.axes._subplots.AxesSubplot object at 0x10ee625f8>,\n",
       "        <matplotlib.axes._subplots.AxesSubplot object at 0x10ee8d898>,\n",
       "        <matplotlib.axes._subplots.AxesSubplot object at 0x10ee8d8d0>]],\n",
       "      dtype=object)"
      ]
     },
     "execution_count": 33,
     "metadata": {},
     "output_type": "execute_result"
    },
    {
     "data": {
      "image/png": "[encoded data removed]",
      "text/plain": [
       "<Figure size 1152x648 with 9 Axes>"
      ]
     },
     "metadata": {
      "needs_background": "light"
     },
     "output_type": "display_data"
    }
   ],
   "source": [
    "df[snow_months].hist(cumulative=True, density=1, bins=100, figsize=(16, 9))"
   ]
  },
  {
   "cell_type": "code",
   "execution_count": 34,
   "metadata": {},
   "outputs": [
    {
     "name": "stdout",
     "output_type": "stream",
     "text": [
      "Sep snowfall correlation to season total: 0.21566614763671837\n",
      "Oct snowfall correlation to season total: 0.3558379933305486\n",
      "Nov snowfall correlation to season total: 0.5127458351851215\n",
      "Dec snowfall correlation to season total: 0.3289685205024159\n",
      "Jan snowfall correlation to season total: 0.19876129024641023\n",
      "Feb snowfall correlation to season total: 0.3346142558965818\n",
      "Mar snowfall correlation to season total: 0.46077920984153004\n",
      "April snowfall correlation to season total: 0.39389603531426715\n",
      "May snowfall correlation to season total: 0.21324068811654057\n"
     ]
    }
   ],
   "source": [
    "for s in snow_months:\n",
    "    print(f\"{s} snowfall correlation to season total: {df[s].corr(df.Total)}\")"
   ]
  },
  {
   "cell_type": "code",
   "execution_count": null,
   "metadata": {},
   "outputs": [],
   "source": []
  }
 ],
 "metadata": {
  "kernelspec": {
   "display_name": "Python 3",
   "language": "python",
   "name": "python3"
  },
  "language_info": {
   "codemirror_mode": {
    "name": "ipython",
    "version": 3
   },
   "file_extension": ".py",
   "mimetype": "text/x-python",
   "name": "python",
   "nbconvert_exporter": "python",
   "pygments_lexer": "ipython3",
   "version": "3.7.2"
  }
 },
 "nbformat": 4,
 "nbformat_minor": 2
}
